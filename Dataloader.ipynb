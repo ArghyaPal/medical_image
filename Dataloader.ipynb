{
  "nbformat": 4,
  "nbformat_minor": 0,
  "metadata": {
    "colab": {
      "name": "Dataloader.ipynb",
      "version": "0.3.2",
      "provenance": [],
      "include_colab_link": true
    },
    "kernelspec": {
      "name": "python3",
      "display_name": "Python 3"
    }
  },
  "cells": [
    {
      "cell_type": "markdown",
      "metadata": {
        "id": "view-in-github",
        "colab_type": "text"
      },
      "source": [
        "<a href=\"https://colab.research.google.com/github/ArghyaPal/medical_image/blob/master/Dataloader.ipynb\" target=\"_parent\"><img src=\"https://colab.research.google.com/assets/colab-badge.svg\" alt=\"Open In Colab\"/></a>"
      ]
    },
    {
      "cell_type": "markdown",
      "metadata": {
        "id": "TQOQStAGwEFL",
        "colab_type": "text"
      },
      "source": [
        "## Dataset creation of PCAM\n",
        "\n",
        "In this section, we will load PatchCamelyon (PCam) datset. Originally, the dataset is in .h5 format"
      ]
    },
    {
      "cell_type": "code",
      "metadata": {
        "id": "-nNl5GOdvoK_",
        "colab_type": "code",
        "colab": {}
      },
      "source": [
        "import os\n",
        "import h5py\n",
        "import numpy as np\n",
        "import argparse\n",
        "import os\n",
        "import random\n",
        "import torch\n",
        "import torch.nn as nn\n",
        "import torch.nn.parallel\n",
        "import torch.backends.cudnn as cudnn\n",
        "import torch.optim as optim\n",
        "import torch.utils.data\n",
        "import torchvision.datasets as dset\n",
        "from torchvision.utils import save_image\n",
        "import torchvision.transforms as transforms\n",
        "import torchvision.utils as vutils\n",
        "import numpy as np"
      ],
      "execution_count": 0,
      "outputs": []
    },
    {
      "cell_type": "code",
      "metadata": {
        "id": "28NaABZXv9IL",
        "colab_type": "code",
        "colab": {}
      },
      "source": [
        "def load_h5data(file_name, desc, dtype):\n",
        "    h5 = h5py.File(file_name, 'r')\n",
        "    return np.array(h5.get(desc), dtype=dtype)\n",
        "\n",
        "def reshape_image(image_array):\n",
        "    return image_array.transpose((0,3,1,2))\n",
        "\n",
        "def reshape_labels(label_array):\n",
        "    n, h, w, c = label_array.shape\n",
        "    return label_array.reshape((n))"
      ],
      "execution_count": 0,
      "outputs": []
    },
    {
      "cell_type": "code",
      "metadata": {
        "id": "idbsMssTv_YD",
        "colab_type": "code",
        "colab": {}
      },
      "source": [
        "#specify your data path in 'path'\n",
        "path = '/groups2/gaa50088/pathology/pcamv1/' # adjust your path here\n",
        "train_images = load_h5data(os.path.join(path, 'camelyonpatch_level_2_split_train_x.h5'), 'x', np.uint8)\n",
        "train_images = reshape_image(train_images)\n",
        "print(train_images.shape)\n",
        "\n",
        "train_labels = load_h5data(os.path.join(path,'camelyonpatch_level_2_split_train_y.h5'), 'y', np.uint8)\n",
        "train_labels = reshape_labels(train_labels)\n",
        "\n",
        "train_images = np.asarray(train_images, np.float32)\n",
        "train_images /= 255\n",
        "\n",
        "train_data = torch.tensor(train_images, dtype=torch.float32)\n",
        "train_labels = torch.tensor(train_labels, dtype=torch.long)\n",
        "\n",
        "real_batch = train_data[:262144] #[:32]\n",
        "label_batch = train_labels[:262144]"
      ],
      "execution_count": 0,
      "outputs": []
    },
    {
      "cell_type": "markdown",
      "metadata": {
        "id": "_rUdhK-5w1va",
        "colab_type": "text"
      },
      "source": [
        "## Save the positive dataset in positive images folder"
      ]
    },
    {
      "cell_type": "code",
      "metadata": {
        "id": "36bbTdxUwCfr",
        "colab_type": "code",
        "colab": {}
      },
      "source": [
        "for j in range(1,262144):\n",
        "    print(\"Outer j\")\n",
        "    print(j)\n",
        "    if label_batch.data[j] == 1:\n",
        "        print(\"Inner j\")\n",
        "        print(j)\n",
        "        save_image(real_batch.data[j,:,:,:], \"positive_images/%d.png\" % j, nrow=1, normalize=True)"
      ],
      "execution_count": 0,
      "outputs": []
    },
    {
      "cell_type": "markdown",
      "metadata": {
        "id": "WTQHXZNNxItR",
        "colab_type": "text"
      },
      "source": [
        "## Save the negative dataset in negative images folder"
      ]
    },
    {
      "cell_type": "code",
      "metadata": {
        "id": "VT5L1BRDxRKp",
        "colab_type": "code",
        "colab": {}
      },
      "source": [
        "for j in range(1,262144):\n",
        "    print(\"Outer j\")\n",
        "    print(j)\n",
        "    if label_batch.data[j] == 1:\n",
        "        print(\"Inner j\")\n",
        "        print(j)\n",
        "        save_image(real_batch.data[j,:,:,:], \"negative_images/%d.png\" % j, nrow=1, normalize=True)"
      ],
      "execution_count": 0,
      "outputs": []
    }
  ]
}