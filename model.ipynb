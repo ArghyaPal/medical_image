{
  "nbformat": 4,
  "nbformat_minor": 0,
  "metadata": {
    "colab": {
      "name": "model.ipynb",
      "version": "0.3.2",
      "provenance": [],
      "include_colab_link": true
    },
    "kernelspec": {
      "name": "python3",
      "display_name": "Python 3"
    }
  },
  "cells": [
    {
      "cell_type": "markdown",
      "metadata": {
        "id": "view-in-github",
        "colab_type": "text"
      },
      "source": [
        "<a href=\"https://colab.research.google.com/github/ArghyaPal/medical_image/blob/master/model.ipynb\" target=\"_parent\"><img src=\"https://colab.research.google.com/assets/colab-badge.svg\" alt=\"Open In Colab\"/></a>"
      ]
    },
    {
      "cell_type": "markdown",
      "metadata": {
        "id": "6Pt4_vIFyqWw",
        "colab_type": "text"
      },
      "source": [
        "## Generator architecture"
      ]
    },
    {
      "cell_type": "code",
      "metadata": {
        "id": "NjX_hc0mxnxH",
        "colab_type": "code",
        "colab": {}
      },
      "source": [
        "# Generator Code\n",
        "\n",
        "class Generator(nn.Module):\n",
        "    def __init__(self, ngpu):\n",
        "        super(Generator, self).__init__()\n",
        "        self.ngpu = ngpu\n",
        "        # input is Z, going into a convolution\n",
        "        self.dconv1 =  nn.ConvTranspose2d( nz, ngf * 8, 3, 1, 0, bias=False)\n",
        "        self.batch1 = nn.BatchNorm2d(ngf * 8)\n",
        "        self.relu =   nn.ReLU(True)\n",
        "        # state size. (ngf*8) x 4 x 4\n",
        "        self.dconv2 =  nn.ConvTranspose2d(ngf * 8, ngf * 4, 4, 2, 1, bias=False)\n",
        "        self.batch2 = nn.BatchNorm2d(ngf * 4)\n",
        "        # state size. (ngf*4) x 8 x 8\n",
        "        self.dconv3 =  nn.ConvTranspose2d(ngf * 4, ngf * 2, 4, 2, 1, bias=False)\n",
        "        self.batch3 = nn.BatchNorm2d(ngf * 2)\n",
        "        # state size. (ngf*2) x 16 x 16\n",
        "        self.dconv4 =  nn.ConvTranspose2d(ngf * 2, ngf, 4, 2, 1, bias=False)\n",
        "        self.batch4 =  nn.BatchNorm2d(ngf)\n",
        "        self.dconv5 =  nn.ConvTranspose2d(ngf, ngf, 4, 2, 1, bias=False)\n",
        "        # state size. (ngf) x 32 x 32\n",
        "        self.dconv6 = nn.ConvTranspose2d(ngf, nc, 4, 2, 1, bias=False)\n",
        "        self.tan =   nn.Tanh()\n",
        "        # state size. (nc) x 64 x 64\n",
        "\n",
        "    def forward(self, input):\n",
        "        x = self.dconv1(input)\n",
        "        #print(\"I am Generator\")\n",
        "        #print(x.size)\n",
        "        x = self.batch1(x)\n",
        "        x = self.relu(x)\n",
        "        x = self.dconv2(x)\n",
        "        #print(x.shape)\n",
        "        x = self.batch2(x)\n",
        "        x = self.relu(x)\n",
        "        x = self.dconv3(x)\n",
        "        #print(x.shape)\n",
        "        x = self.batch3(x)\n",
        "        x = self.relu(x)\n",
        "        x = self.dconv4(x)\n",
        "        #print(x.shape)\n",
        "        x = self.batch4(x)\n",
        "        x = self.relu(x)\n",
        "        x = self.dconv5(x)\n",
        "        #print(x.shape)\n",
        "        x = self.dconv6(x)\n",
        "        #print(x.shape)\n",
        "        x = self.tan(x)\n",
        "        #print(\"EOF G\")\n",
        "        return x"
      ],
      "execution_count": 0,
      "outputs": []
    },
    {
      "cell_type": "markdown",
      "metadata": {
        "id": "E6Cn13VIylAP",
        "colab_type": "text"
      },
      "source": [
        "## Discriminator architecture"
      ]
    },
    {
      "cell_type": "code",
      "metadata": {
        "id": "m50SYMOeyiAP",
        "colab_type": "code",
        "colab": {}
      },
      "source": [
        "# Discriminator Code\n",
        "\n",
        "class Discriminator(nn.Module):\n",
        "    def __init__(self, ngpu):\n",
        "        super(Discriminator, self).__init__()\n",
        "        self.ngpu = ngpu\n",
        "        # input is (nc) x 64 x 64\n",
        "        self.conv1 =  nn.Conv2d(nc, ndf, 4, 2, 1, bias=False)\n",
        "        self.lrelu1 = nn.LeakyReLU(0.2, inplace=True)\n",
        "        # state size. (ndf) x 32 x 32\n",
        "        self.conv2 =  nn.Conv2d(ndf, ndf * 2, 4, 2, 1, bias=False)\n",
        "        self.batch1 = nn.BatchNorm2d(ndf * 2)\n",
        "           #nn.LeakyReLU(0.2, inplace=True),\n",
        "        # state size. (ndf*2) x 16 x 16\n",
        "        self.conv3 =  nn.Conv2d(ndf * 2, ndf * 4, 4, 2, 1, bias=False)\n",
        "        self.batch2 = nn.BatchNorm2d(ndf * 4)\n",
        "            #nn.LeakyReLU(0.2, inplace=True),\n",
        "        # state size. (ndf*4) x 8 x 8\n",
        "        self.conv4 =  nn.Conv2d(ndf * 4, ndf * 8, 4, 2, 1, bias=False)\n",
        "        self.batch3 = nn.BatchNorm2d(ndf * 8)\n",
        "            #nn.LeakyReLU(0.2, inplace=True),\n",
        "        # state size. (ndf*8) x 4 x 4\n",
        "        self.conv5 =  nn.Conv2d(ndf * 8, 1, 4, 1, 0, bias=False)\n",
        "        self.linear = nn.Linear(900,100)\n",
        "        self.sigmoid = nn.Sigmoid()\n",
        "\n",
        "    def forward(self, input):\n",
        "        x = self.conv1(input)\n",
        "        #print(\"I am Discriminator\")\n",
        "        #print(x.shape)\n",
        "        x = self.lrelu1(x)\n",
        "        x = self.conv2(x)\n",
        "        #print(x.shape)\n",
        "        x = self.batch1(x)\n",
        "        x = self.lrelu1(x)\n",
        "        x = self.conv3(x)\n",
        "        #print(x.shape)\n",
        "        x = self.batch2(x)\n",
        "        x = self.lrelu1(x)\n",
        "        x = self.conv4(x)\n",
        "        #print(x.shape)\n",
        "        x = self.batch3(x)\n",
        "        x = self.lrelu1(x)\n",
        "        x = self.conv5(x)\n",
        "        #print(x.shape)\n",
        "        x = x.view(100*1*3*3)\n",
        "        x = self.linear(x)\n",
        "        x = self.sigmoid(x)\n",
        "        #print(\"EOF D\")\n",
        "        return x"
      ],
      "execution_count": 0,
      "outputs": []
    }
  ]
}